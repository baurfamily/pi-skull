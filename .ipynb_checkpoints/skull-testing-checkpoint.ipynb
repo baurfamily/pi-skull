{
 "cells": [
  {
   "cell_type": "markdown",
   "metadata": {},
   "source": [
    "## Skull *(and Roses)*\n",
    "\n",
    "### Incomplete Rules\n",
    "\n",
    "1. Play\n",
    "    1. Start player plays a coaster\n",
    "    1. Each player in turn must either **Play** or **Bid**\n",
    "    1. If a player has no more coasters left, they must Bid\n",
    "1. Bid\n",
    "    1. Any player may start bidding with any number (>= total coasters played)\n",
    "    1. Each player after the first bid must either **Raise** or **Pass**\n",
    "1. Raise\n",
    "    1. A player must raise at least 1 more than the previous player, they may raise more (>= total played coasters)\n",
    "1. Pass\n",
    "    1. Once a player has passed, they are out for the round\n",
    "    1. Once all but one player have passed, the remaining player has won the bid.\n",
    "1. Winning the Bid\n",
    "    1. A player who has won the bid must then find that number of flowers (rules not explained here)\n",
    "    1. A player may:\n",
    "     1. **Succeed** by finding their bid number of flowers\n",
    "     1. **Fail** by turning over their own Skull\n",
    "     1. **Fail** by turning over another player's Skull\n"
   ]
  },
  {
   "cell_type": "code",
   "execution_count": 62,
   "metadata": {},
   "outputs": [
    {
     "name": "stdout",
     "output_type": "stream",
     "text": [
      "Current Player: Bryana\n",
      "Game over!\n",
      "Bryana has won!\n"
     ]
    }
   ],
   "source": [
    "from random import choice, randrange\n",
    "\n",
    "class Player:\n",
    "    def __init__(self, name):\n",
    "        self.name = name\n",
    "        self.score = 0\n",
    "        self.fail_count = 0\n",
    "        self.passed = False\n",
    "        self.bid = 0\n",
    "        \n",
    "    def bid(self, amount):\n",
    "        self.bid = amount\n",
    "        \n",
    "    def fold(self):\n",
    "        self.bid = 0\n",
    "        self.passed = True\n",
    "    \n",
    "    def succeed(self):\n",
    "        self.score += 1\n",
    "        self.reset()\n",
    "        \n",
    "    def fail(self):\n",
    "        self.fail_count += 1\n",
    "        self.reset()\n",
    "    \n",
    "    def reset(self):\n",
    "        self.bid = 0\n",
    "        self.passed\n",
    "\n",
    "class Game:\n",
    "    \n",
    "    \"\"\"players should be an ordered array of names\"\"\"\n",
    "    def __init__(self, names):\n",
    "        self.players = [Player(n) for n in names]\n",
    "        self.current_player_index = randrange(len(self.players))\n",
    "        \n",
    "    def current_player(self):\n",
    "        return self.players[self.current_player_index]\n",
    "        \n",
    "    def complete(self):\n",
    "        return any(p.score == 2 for p in self.players)\n",
    "    \n",
    "    def winner(self):\n",
    "        return [p for p in self.players if p.score == 2][0]\n",
    "    \n",
    "    def next_turn(self):\n",
    "        self.current_player_index = (self.current_player_index + 1) % len(self.players)\n",
    "        for p in self.players:\n",
    "            p.reset()\n",
    "            \n",
    "    \n",
    "#################################################\n",
    "\n",
    "names = [ 'Eric', 'Bryana', 'Allison' ]\n",
    "\n",
    "g = Game( names )\n",
    "\n",
    "while not g.complete():\n",
    "    print(f\"Current Player: {g.current_player().name}\")\n",
    "    g.players[1].score = 2\n",
    "    g.next_turn()\n",
    "\n",
    "print(\"Game over!\")\n",
    "print(f\"{g.winner().name} has won!\")"
   ]
  },
  {
   "cell_type": "code",
   "execution_count": 48,
   "metadata": {},
   "outputs": [
    {
     "data": {
      "text/plain": [
       "3"
      ]
     },
     "execution_count": 48,
     "metadata": {},
     "output_type": "execute_result"
    }
   ],
   "source": [
    "len(names)"
   ]
  },
  {
   "cell_type": "code",
   "execution_count": 35,
   "metadata": {},
   "outputs": [
    {
     "data": {
      "text/plain": [
       "['Eric']"
      ]
     },
     "execution_count": 35,
     "metadata": {},
     "output_type": "execute_result"
    }
   ],
   "source": [
    "list(filter(lambda n: n == 'Eric', names))"
   ]
  },
  {
   "cell_type": "code",
   "execution_count": 38,
   "metadata": {},
   "outputs": [
    {
     "data": {
      "text/plain": [
       "'Eric'"
      ]
     },
     "execution_count": 38,
     "metadata": {},
     "output_type": "execute_result"
    }
   ],
   "source": [
    "[n for n in names if n == 'Eric'][0]"
   ]
  },
  {
   "cell_type": "code",
   "execution_count": 40,
   "metadata": {},
   "outputs": [
    {
     "ename": "NameError",
     "evalue": "name 'random' is not defined",
     "output_type": "error",
     "traceback": [
      "\u001b[0;31m---------------------------------------------------------------------------\u001b[0m",
      "\u001b[0;31mNameError\u001b[0m                                 Traceback (most recent call last)",
      "\u001b[0;32m<ipython-input-40-7564f460fcb9>\u001b[0m in \u001b[0;36m<module>\u001b[0;34m()\u001b[0m\n\u001b[0;32m----> 1\u001b[0;31m \u001b[0mrandom\u001b[0m\u001b[0;34m(\u001b[0m\u001b[0;36m3\u001b[0m\u001b[0;34m)\u001b[0m\u001b[0;34m\u001b[0m\u001b[0m\n\u001b[0m",
      "\u001b[0;31mNameError\u001b[0m: name 'random' is not defined"
     ]
    }
   ],
   "source": [
    "random(3)"
   ]
  },
  {
   "cell_type": "code",
   "execution_count": 66,
   "metadata": {},
   "outputs": [
    {
     "data": {
      "text/plain": [
       "False"
      ]
     },
     "execution_count": 66,
     "metadata": {},
     "output_type": "execute_result"
    }
   ],
   "source": [
    "all(n == 'Eric' for n in names)"
   ]
  },
  {
   "cell_type": "code",
   "execution_count": 77,
   "metadata": {},
   "outputs": [
    {
     "data": {
      "text/plain": [
       "5"
      ]
     },
     "execution_count": 77,
     "metadata": {},
     "output_type": "execute_result"
    }
   ],
   "source": [
    "int(\"5\")"
   ]
  },
  {
   "cell_type": "code",
   "execution_count": null,
   "metadata": {},
   "outputs": [],
   "source": []
  }
 ],
 "metadata": {
  "kernelspec": {
   "display_name": "Python 3",
   "language": "python",
   "name": "python3"
  },
  "language_info": {
   "codemirror_mode": {
    "name": "ipython",
    "version": 3
   },
   "file_extension": ".py",
   "mimetype": "text/x-python",
   "name": "python",
   "nbconvert_exporter": "python",
   "pygments_lexer": "ipython3",
   "version": "3.6.2"
  }
 },
 "nbformat": 4,
 "nbformat_minor": 2
}
